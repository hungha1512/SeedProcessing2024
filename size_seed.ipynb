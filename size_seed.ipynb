{
 "cells": [
  {
   "cell_type": "markdown",
   "metadata": {
    "id": "lYmumeGO9yLM"
   },
   "source": [
    "# Load data & libs"
   ]
  },
  {
   "cell_type": "markdown",
   "metadata": {},
   "source": [
    "## Import libraries"
   ]
  },
  {
   "cell_type": "code",
   "execution_count": 2,
   "metadata": {
    "id": "r1fUVIQy93MD"
   },
   "outputs": [],
   "source": [
    "import numpy as np\n",
    "import argparse\n",
    "import glob\n",
    "import cv2\n",
    "import matplotlib.pyplot as plt\n",
    "import pandas as pd\n",
    "import os"
   ]
  },
  {
   "cell_type": "markdown",
   "metadata": {},
   "source": [
    "## Load data"
   ]
  },
  {
   "cell_type": "code",
   "execution_count": 3,
   "metadata": {},
   "outputs": [],
   "source": [
    "img_dir = \"/Users/thanhhuongtran/Documents/him/seed-size/seed_ground_truth/raw_images/\""
   ]
  },
  {
   "cell_type": "code",
   "execution_count": 4,
   "metadata": {},
   "outputs": [],
   "source": [
    "img_list = [f'Anh{i}.jpg' for i in range(1, 11)]"
   ]
  },
  {
   "cell_type": "code",
   "execution_count": 5,
   "metadata": {},
   "outputs": [
    {
     "name": "stdout",
     "output_type": "stream",
     "text": [
      "['Anh1.jpg', 'Anh2.jpg', 'Anh3.jpg', 'Anh4.jpg', 'Anh5.jpg', 'Anh6.jpg', 'Anh7.jpg', 'Anh8.jpg', 'Anh9.jpg', 'Anh10.jpg']\n"
     ]
    }
   ],
   "source": [
    "print(img_list)"
   ]
  },
  {
   "cell_type": "markdown",
   "metadata": {},
   "source": [
    "# Traditional image processing method"
   ]
  },
  {
   "cell_type": "markdown",
   "metadata": {},
   "source": [
    "## Canny edge detector method"
   ]
  },
  {
   "cell_type": "code",
   "execution_count": 35,
   "metadata": {},
   "outputs": [],
   "source": [
    "def process_image(img_path, output_image_path, output_excel_path):\n",
    "    img = cv2.imread(img_path)\n",
    "    \n",
    "    if img is None:\n",
    "        print(f\"Error: Unable to load image from {img_path}\")\n",
    "        return\n",
    "    \n",
    "    #Smooth the images\n",
    "    dilated = cv2.dilate(img, np.ones((3, 3), np.uint8), iterations = 7)\n",
    "\n",
    "    # Convert to grayscale\n",
    "    gray = cv2.cvtColor(dilated, cv2.COLOR_BGR2GRAY)\n",
    "    \n",
    "    # Apply threshold for accurate edge detection\n",
    "    _, binary = cv2.threshold(gray, 0, 255, cv2.THRESH_BINARY + cv2.THRESH_OTSU)\n",
    "\n",
    "    # Apply Canny edge detector\n",
    "    edges = cv2.Canny(binary, 100, 200)\n",
    "\n",
    "     # Smooth the edges\n",
    "    dilation = cv2.dilate(edges, np.ones((3, 3), np.uint8), iterations = 2)\n",
    "    cv2.imshow(\"Dilation\", dilation)\n",
    "\n",
    "    # Find contours\n",
    "    contours, _ = cv2.findContours(dilation, cv2.RETR_EXTERNAL, cv2.CHAIN_APPROX_SIMPLE)\n",
    "\n",
    "    #Filtering contours by area\n",
    "    #contours = [cnt for cnt in contours if (cv2.contourArea(cnt) < 30000 and cv2.contourArea(cnt) > 7000)]\n",
    "    contours = [cnt for cnt in contours if cv2.contourArea(cnt) > 5000]\n",
    "\n",
    "    # Find bounding rectangles for each contour and rearrange them by area\n",
    "    min_rects = [cv2.minAreaRect(cnt) for cnt in contours]\n",
    "    min_rects.sort(key=lambda rect: rect[0][0]) # Sort by x coordinate\n",
    "\n",
    "    result = cv2.cvtColor(img, cv2.COLOR_BGR2RGB)\n",
    "    num_obj = 0\n",
    "    obj_sizes = []\n",
    "\n",
    "    # Create dataframe for output\n",
    "    data = {\"Object\": [], \"Width\": [], \"Height\": []}\n",
    "\n",
    "    # Draw bounding box and numbering for each object\n",
    "    for i, (rect, cnt) in enumerate(zip(min_rects, contours)):\n",
    "        box = cv2.boxPoints(rect)\n",
    "        box = np.intp(box)\n",
    "        cv2.drawContours(result, [box], 0, (255, 0, 0), 2)\n",
    "\n",
    "        width = rect[1][0]\n",
    "        height = rect[1][1]\n",
    "        \n",
    "        if width < height:\n",
    "            width, height = height, width\n",
    "        \n",
    "        if i == 0:\n",
    "            coin_diameter = max(width, height)\n",
    "            pixel_per_mm = coin_diameter / 20\n",
    "            width_mm = width / pixel_per_mm\n",
    "            height_mm = height / pixel_per_mm\n",
    "            obj_sizes.append((width_mm, height_mm))\n",
    "        else:\n",
    "            width_mm = width / pixel_per_mm\n",
    "            height_mm = height / pixel_per_mm\n",
    "            obj_sizes.append((width_mm, height_mm))\n",
    "        \n",
    "\n",
    "        cv2.line(result, ((box[0][0] + box[1][0]) // 2, (box[0][1] + box[1][1]) // 2), ((box[2][0] + box[3][0]) // 2, (box[2][1] + box[3][1]) // 2), (0, 0, 255), 2) # width\n",
    "        cv2.line(result, ((box[1][0] + box[2][0]) // 2, (box[1][1] + box[2][1]) // 2), ((box[0][0] + box[3][0]) // 2, (box[0][1] + box[3][1]) // 2), (0, 0, 255), 2) # height\n",
    "        cv2.putText(result, f\"{i + 1}:{width_mm:.2f}x{height_mm:.2f}\", (int(rect[0][0]), int(rect[0][1] - 10)), cv2.FONT_HERSHEY_SIMPLEX, 1.5, (255, 0, 0), 2)\n",
    "        \n",
    "        num_obj += 1\n",
    "        data[\"Object\"].append(i + 1)\n",
    "        data[\"Width\"].append(width_mm)\n",
    "        data[\"Height\"].append(height_mm)\n",
    "    \n",
    "    # insert index seed into image\n",
    "    cv2.putText(result, f\"Seed: {num_obj - 1}\", (100, 300), cv2.FONT_HERSHEY_SIMPLEX, 5, (0, 0, 255), 2)\n",
    "    cv2.imwrite(output_image_path, cv2.cvtColor(result, cv2.COLOR_RGB2BGR))\n",
    "\n",
    "    df = pd.DataFrame(data)\n",
    "    df.to_excel(output_excel_path, index=False)"
   ]
  },
  {
   "cell_type": "code",
   "execution_count": 36,
   "metadata": {},
   "outputs": [],
   "source": [
    "for i, image in enumerate(img_list):\n",
    "    image_path = img_dir + image\n",
    "    output_image_path = f'results/canny/{i + 1}_counting_with_bb.jpg'\n",
    "    output_excel_path = f'results/canny/{i + 1}_obj_sz.xlsx'\n",
    "    process_image(image_path, output_image_path, output_excel_path)"
   ]
  },
  {
   "cell_type": "markdown",
   "metadata": {},
   "source": [
    "## Sobel edge detector method"
   ]
  },
  {
   "cell_type": "code",
   "execution_count": 11,
   "metadata": {},
   "outputs": [],
   "source": [
    "def process_image(img_path, output_image_path, output_excel_path):\n",
    "    #Load the image\n",
    "    img = cv2.imread(img_path)\n",
    "    if img is None:\n",
    "        print(f\"Error: Unable to load image from {img_path}\")\n",
    "        return\n",
    "    \n",
    "    # Smooth the image\n",
    "    dilated = cv2.dilate(img, np.ones((3, 3), np.uint8), iterations=7)\n",
    "\n",
    "    # Convert to grayscale\n",
    "    gray = cv2.cvtColor(dilated, cv2.COLOR_BGR2GRAY)\n",
    "    \n",
    "    # Apply Sobel filter\n",
    "    sobel_x = cv2.Sobel(gray, cv2.CV_64F, 1, 0, ksize=3)\n",
    "    sobel_y = cv2.Sobel(gray, cv2.CV_64F, 0, 1, ksize=3)\n",
    "    sobel_combined = cv2.magnitude(sobel_x, sobel_y)\n",
    "    sobel_combined = cv2.convertScaleAbs(sobel_combined)\n",
    "\n",
    "    # Threshold to create binary image\n",
    "    _, binary = cv2.threshold(sobel_combined, 0, 255, cv2.THRESH_BINARY + cv2.THRESH_OTSU)\n",
    "    \n",
    "    # Smooth edges\n",
    "    dilation = cv2.dilate(binary, np.ones((3, 3), np.uint8), iterations=2)\n",
    "    \n",
    "    # Find contours\n",
    "    contours, _ = cv2.findContours(dilation, cv2.RETR_EXTERNAL, cv2.CHAIN_APPROX_SIMPLE)\n",
    "    \n",
    "    # Filter contours by area\n",
    "    contours = [cnt for cnt in contours if cv2.contourArea(cnt) > 5000]\n",
    "\n",
    "    # Find bounding rectangles for each contour\n",
    "    min_rects = [cv2.minAreaRect(cnt) for cnt in contours]\n",
    "    min_rects.sort(key=lambda rect: rect[0][0])  # Sort by x-coordinate\n",
    "    \n",
    "    result = cv2.cvtColor(img, cv2.COLOR_BGR2RGB)\n",
    "    num_obj = 0\n",
    "    obj_sizes = []\n",
    "    \n",
    "    # Create dataframe for output\n",
    "    data = {\"Object\": [], \"Width\": [], \"Height\": []}\n",
    "    \n",
    "    # Process each contour\n",
    "    for i, (rect, cnt) in enumerate(zip(min_rects, contours)):\n",
    "        box = cv2.boxPoints(rect)\n",
    "        box = np.intp(box)\n",
    "        cv2.drawContours(result, [box], 0, (255, 0, 0), 2)\n",
    "        \n",
    "        width = rect[1][0]\n",
    "        height = rect[1][1]\n",
    "        \n",
    "        # Ensure width > height\n",
    "        if width < height:\n",
    "            width, height = height, width\n",
    "        \n",
    "        if i == 0:\n",
    "            coin_diameter = max(width, height)\n",
    "            pixel_per_mm = coin_diameter / 20  # Assuming a reference object of 20mm\n",
    "            width_mm = width / pixel_per_mm\n",
    "            height_mm = height / pixel_per_mm\n",
    "        else:\n",
    "            width_mm = width / pixel_per_mm\n",
    "            height_mm = height / pixel_per_mm\n",
    "        \n",
    "        obj_sizes.append((width_mm, height_mm))\n",
    "        \n",
    "        cv2.line(result, ((box[0][0] + box[1][0]) // 2, (box[0][1] + box[1][1]) // 2), \n",
    "                 ((box[2][0] + box[3][0]) // 2, (box[2][1] + box[3][1]) // 2), (0, 0, 255), 2)  # Width line\n",
    "        cv2.line(result, ((box[1][0] + box[2][0]) // 2, (box[1][1] + box[2][1]) // 2), \n",
    "                 ((box[0][0] + box[3][0]) // 2, (box[0][1] + box[3][1]) // 2), (0, 0, 255), 2)  # Height line\n",
    "        cv2.putText(result, f\"{i + 1}: {width_mm:.2f}x{height_mm:.2f}\", \n",
    "                    (int(rect[0][0]), int(rect[0][1] - 10)), cv2.FONT_HERSHEY_SIMPLEX, 1.5, (255, 0, 0), 2)\n",
    "        \n",
    "        num_obj += 1\n",
    "        data[\"Object\"].append(i + 1)\n",
    "        data[\"Width\"].append(width_mm)\n",
    "        data[\"Height\"].append(height_mm)\n",
    "    \n",
    "    # Insert total seed count in image\n",
    "    cv2.putText(result, f\"Seed: {num_obj}\", (100, 300), cv2.FONT_HERSHEY_SIMPLEX, 5, (0, 0, 255), 2)\n",
    "    \n",
    "    # Save output image and Excel file\n",
    "    cv2.imwrite(output_image_path, cv2.cvtColor(result, cv2.COLOR_RGB2BGR))\n",
    "    df = pd.DataFrame(data)\n",
    "    df.to_excel(output_excel_path, index=False)\n",
    "\n",
    "    print(f\"Processed image saved to {output_image_path}\")\n",
    "    print(f\"Seed size data saved to {output_excel_path}\")"
   ]
  },
  {
   "cell_type": "code",
   "execution_count": 12,
   "metadata": {},
   "outputs": [
    {
     "name": "stdout",
     "output_type": "stream",
     "text": [
      "Processed image saved to results/sobel/1_counting_with_bb.jpg\n",
      "Seed size data saved to results/sobel/1_obj_sz.xlsx\n",
      "Processed image saved to results/sobel/2_counting_with_bb.jpg\n",
      "Seed size data saved to results/sobel/2_obj_sz.xlsx\n",
      "Processed image saved to results/sobel/3_counting_with_bb.jpg\n",
      "Seed size data saved to results/sobel/3_obj_sz.xlsx\n",
      "Processed image saved to results/sobel/4_counting_with_bb.jpg\n",
      "Seed size data saved to results/sobel/4_obj_sz.xlsx\n",
      "Processed image saved to results/sobel/5_counting_with_bb.jpg\n",
      "Seed size data saved to results/sobel/5_obj_sz.xlsx\n",
      "Processed image saved to results/sobel/6_counting_with_bb.jpg\n",
      "Seed size data saved to results/sobel/6_obj_sz.xlsx\n",
      "Processed image saved to results/sobel/7_counting_with_bb.jpg\n",
      "Seed size data saved to results/sobel/7_obj_sz.xlsx\n",
      "Processed image saved to results/sobel/8_counting_with_bb.jpg\n",
      "Seed size data saved to results/sobel/8_obj_sz.xlsx\n",
      "Processed image saved to results/sobel/9_counting_with_bb.jpg\n",
      "Seed size data saved to results/sobel/9_obj_sz.xlsx\n",
      "Processed image saved to results/sobel/10_counting_with_bb.jpg\n",
      "Seed size data saved to results/sobel/10_obj_sz.xlsx\n"
     ]
    }
   ],
   "source": [
    "for i, image in enumerate(img_list):\n",
    "    image_path = img_dir + image\n",
    "    output_image_path = f'results/sobel/{i + 1}_counting_with_bb.jpg'\n",
    "    output_excel_path = f'results/sobel/{i + 1}_obj_sz.xlsx'\n",
    "    process_image(image_path, output_image_path, output_excel_path)"
   ]
  },
  {
   "cell_type": "markdown",
   "metadata": {},
   "source": [
    "## Laplacian edge detector method"
   ]
  },
  {
   "cell_type": "code",
   "execution_count": 14,
   "metadata": {},
   "outputs": [],
   "source": [
    "def process_image(img_path, output_image_path, output_excel_path):\n",
    "    #Load the image\n",
    "    img = cv2.imread(img_path)\n",
    "    if img is None:\n",
    "        print(f\"Error: Unable to load image from {img_path}\")\n",
    "        return\n",
    "    \n",
    "    # Convert to grayscale\n",
    "    gray = cv2.cvtColor(img, cv2.COLOR_BGR2GRAY)\n",
    "    \n",
    "    # Apply Gaussian blur to reduce noise\n",
    "    blurred = cv2.GaussianBlur(gray, (3, 3), 0)\n",
    "    \n",
    "    # Apply Laplacian edge detector\n",
    "    laplacian = cv2.Laplacian(blurred, cv2.CV_64F, ksize=5)\n",
    "    \n",
    "    # Convert to absolute value and uint8\n",
    "    laplacian_abs = np.uint8(np.absolute(laplacian))\n",
    "    \n",
    "    # Normalize and apply threshold\n",
    "    # Use Otsu's method to determine the threshold\n",
    "    _, thresh = cv2.threshold(laplacian_abs, 50, 255, cv2.THRESH_BINARY + cv2.THRESH_OTSU)\n",
    "    \n",
    "    # Find contours\n",
    "    contours, _ = cv2.findContours(thresh, cv2.RETR_EXTERNAL, cv2.CHAIN_APPROX_SIMPLE)\n",
    "    \n",
    "    # Filter contours by area\n",
    "    contours = [cnt for cnt in contours if cv2.contourArea(cnt) > 5000]\n",
    "\n",
    "    # Find bounding rectangles for each contour\n",
    "    min_rects = [cv2.minAreaRect(cnt) for cnt in contours]\n",
    "    min_rects.sort(key=lambda rect: rect[0][0])  # Sort by x-coordinate\n",
    "    \n",
    "    result = cv2.cvtColor(img, cv2.COLOR_BGR2RGB)\n",
    "    num_obj = 0\n",
    "    obj_sizes = []\n",
    "    \n",
    "    # Create dataframe for output\n",
    "    data = {\"Object\": [], \"Width\": [], \"Height\": []}\n",
    "    \n",
    "    # Process each contour\n",
    "    for i, (rect, cnt) in enumerate(zip(min_rects, contours)):\n",
    "        box = cv2.boxPoints(rect)\n",
    "        box = np.intp(box)\n",
    "        cv2.drawContours(result, [box], 0, (255, 0, 0), 2)\n",
    "        \n",
    "        width = rect[1][0]\n",
    "        height = rect[1][1]\n",
    "        \n",
    "        # Ensure width > height\n",
    "        if width < height:\n",
    "            width, height = height, width\n",
    "        \n",
    "        if i == 0:\n",
    "            coin_diameter = max(width, height)\n",
    "            pixel_per_mm = coin_diameter / 20  # Assuming a reference object of 20mm\n",
    "            width_mm = width / pixel_per_mm\n",
    "            height_mm = height / pixel_per_mm\n",
    "        else:\n",
    "            width_mm = width / pixel_per_mm\n",
    "            height_mm = height / pixel_per_mm\n",
    "        \n",
    "        obj_sizes.append((width_mm, height_mm))\n",
    "        \n",
    "        cv2.line(result, ((box[0][0] + box[1][0]) // 2, (box[0][1] + box[1][1]) // 2), \n",
    "                 ((box[2][0] + box[3][0]) // 2, (box[2][1] + box[3][1]) // 2), (0, 0, 255), 2)  # Width line\n",
    "        cv2.line(result, ((box[1][0] + box[2][0]) // 2, (box[1][1] + box[2][1]) // 2), \n",
    "                 ((box[0][0] + box[3][0]) // 2, (box[0][1] + box[3][1]) // 2), (0, 0, 255), 2)  # Height line\n",
    "        cv2.putText(result, f\"{i + 1}: {width_mm:.2f}x{height_mm:.2f}\", \n",
    "                    (int(rect[0][0]), int(rect[0][1] - 10)), cv2.FONT_HERSHEY_SIMPLEX, 1.5, (255, 0, 0), 2)\n",
    "        \n",
    "        num_obj += 1\n",
    "        data[\"Object\"].append(i + 1)\n",
    "        data[\"Width\"].append(width_mm)\n",
    "        data[\"Height\"].append(height_mm)\n",
    "    \n",
    "    # Insert total seed count in image\n",
    "    cv2.putText(result, f\"Seed: {num_obj}\", (100, 300), cv2.FONT_HERSHEY_SIMPLEX, 5, (0, 0, 255), 2)\n",
    "    \n",
    "    # Save output image and Excel file\n",
    "    cv2.imwrite(output_image_path, cv2.cvtColor(result, cv2.COLOR_RGB2BGR))\n",
    "    df = pd.DataFrame(data)\n",
    "    df.to_excel(output_excel_path, index=False)\n",
    "\n",
    "    print(f\"Processed image saved to {output_image_path}\")\n",
    "    print(f\"Seed size data saved to {output_excel_path}\")"
   ]
  },
  {
   "cell_type": "code",
   "execution_count": 15,
   "metadata": {},
   "outputs": [
    {
     "name": "stdout",
     "output_type": "stream",
     "text": [
      "Processed image saved to results/laplacian/1_counting_with_bb.jpg\n",
      "Seed size data saved to results/laplacian/1_obj_sz.xlsx\n",
      "Processed image saved to results/laplacian/2_counting_with_bb.jpg\n",
      "Seed size data saved to results/laplacian/2_obj_sz.xlsx\n",
      "Processed image saved to results/laplacian/3_counting_with_bb.jpg\n",
      "Seed size data saved to results/laplacian/3_obj_sz.xlsx\n",
      "Processed image saved to results/laplacian/4_counting_with_bb.jpg\n",
      "Seed size data saved to results/laplacian/4_obj_sz.xlsx\n",
      "Processed image saved to results/laplacian/5_counting_with_bb.jpg\n",
      "Seed size data saved to results/laplacian/5_obj_sz.xlsx\n",
      "Processed image saved to results/laplacian/6_counting_with_bb.jpg\n",
      "Seed size data saved to results/laplacian/6_obj_sz.xlsx\n",
      "Processed image saved to results/laplacian/7_counting_with_bb.jpg\n",
      "Seed size data saved to results/laplacian/7_obj_sz.xlsx\n",
      "Processed image saved to results/laplacian/8_counting_with_bb.jpg\n",
      "Seed size data saved to results/laplacian/8_obj_sz.xlsx\n",
      "Processed image saved to results/laplacian/9_counting_with_bb.jpg\n",
      "Seed size data saved to results/laplacian/9_obj_sz.xlsx\n",
      "Processed image saved to results/laplacian/10_counting_with_bb.jpg\n",
      "Seed size data saved to results/laplacian/10_obj_sz.xlsx\n"
     ]
    }
   ],
   "source": [
    "for i, image in enumerate(img_list):\n",
    "    image_path = img_dir + image\n",
    "    output_image_path = f'results/laplacian/{i + 1}_counting_with_bb.jpg'\n",
    "    output_excel_path = f'results/laplacian/{i + 1}_obj_sz.xlsx'\n",
    "    process_image(image_path, output_image_path, output_excel_path)"
   ]
  },
  {
   "cell_type": "markdown",
   "metadata": {},
   "source": [
    "# Statistical based model"
   ]
  }
 ],
 "metadata": {
  "accelerator": "GPU",
  "colab": {
   "gpuType": "T4",
   "provenance": []
  },
  "kernelspec": {
   "display_name": "seed",
   "language": "python",
   "name": "python3"
  },
  "language_info": {
   "codemirror_mode": {
    "name": "ipython",
    "version": 3
   },
   "file_extension": ".py",
   "mimetype": "text/x-python",
   "name": "python",
   "nbconvert_exporter": "python",
   "pygments_lexer": "ipython3",
   "version": "3.10.16"
  }
 },
 "nbformat": 4,
 "nbformat_minor": 0
}
